{
 "cells": [
  {
   "cell_type": "code",
   "execution_count": 3,
   "id": "1d73b410",
   "metadata": {},
   "outputs": [],
   "source": [
    "import warnings\n",
    "import datetime\n",
    "\n",
    "import numpy as np\n",
    "import matplotlib.pyplot as plt\n",
    "import pandas as pd\n",
    "import seaborn as sns\n",
    "\n",
    "from sklearn.model_selection import train_test_split\n",
    "from sklearn.metrics import accuracy_score\n",
    "from scipy.stats import norm\n",
    "\n",
    "\n",
    "from IPython.display import display, Markdown , Math \n",
    "\n",
    "sns.set()\n",
    "warnings.filterwarnings('ignore')"
   ]
  },
  {
   "cell_type": "code",
   "execution_count": 3,
   "id": "35483a6f",
   "metadata": {},
   "outputs": [],
   "source": [
    "def printmd(string): display(Markdown(string))\n",
    "def latex(out): printmd(f'{out}')  \n",
    "def pr(string): printmd('***{}***'.format(string))"
   ]
  },
  {
   "cell_type": "markdown",
   "id": "e5d5eb4c",
   "metadata": {},
   "source": [
    "<h1> Deciosion Tree </h1>"
   ]
  },
  {
   "cell_type": "markdown",
   "id": "ad2adc25",
   "metadata": {},
   "source": [
    "<h2>\n",
    "  <p>\n",
    "    <a href =   \"https://github.com/daodavid\" > \n",
    "         author: daodeiv (David Stankov) \n",
    "       <img src=\"https://cdn.thenewstack.io/media/2014/12/github-octocat.png\" align=\"left\" width=\"120\"  alt=\"daodavid\" ></a>\n",
    "    </p>      \n",
    "</h2>   "
   ]
  },
  {
   "cell_type": "markdown",
   "id": "183536b6",
   "metadata": {},
   "source": [
    "  <h6>\n",
    "  <font size=\"4\" face = \"Times New Roma\" color='#3f134f' > \n",
    "    <ul style=\"margin-left: 30px\">\n",
    "      <li><a href='#bayes_theorem'>Bayes Theorem</a> </li> <br>\n",
    "      <li><a href='#works'>How does Binomial Naive Bayes work?</a> </li><br>\n",
    "      <li><a href='#likeli-invest'>Investigation of likelihood and posterior probability  throw features values of Titanic dataset</a> </li><br>  \n",
    "      <li><a href='#testing'> Implementation of likelihood table for Gaussian Naive Bayes and testing on Titanic </a> </li><br>\n",
    "       <li><a href='#bernuli'> Bernoulli Naive Bayes</a> </li><br> \n",
    "       <li><a href='#ref'>References</a> </li><br>  \n",
    "    </ul>    \n",
    "</font>\n",
    " </h6>   \n"
   ]
  },
  {
   "cell_type": "code",
   "execution_count": null,
   "id": "0b401911",
   "metadata": {},
   "outputs": [],
   "source": []
  },
  {
   "cell_type": "code",
   "execution_count": 7,
   "id": "fe586dd8",
   "metadata": {},
   "outputs": [
    {
     "data": {
      "text/html": [
       "<div>\n",
       "<style scoped>\n",
       "    .dataframe tbody tr th:only-of-type {\n",
       "        vertical-align: middle;\n",
       "    }\n",
       "\n",
       "    .dataframe tbody tr th {\n",
       "        vertical-align: top;\n",
       "    }\n",
       "\n",
       "    .dataframe thead th {\n",
       "        text-align: right;\n",
       "    }\n",
       "</style>\n",
       "<table border=\"1\" class=\"dataframe\">\n",
       "  <thead>\n",
       "    <tr style=\"text-align: right;\">\n",
       "      <th></th>\n",
       "      <th>Gender</th>\n",
       "      <th>Height</th>\n",
       "      <th>Weight</th>\n",
       "      <th>Index</th>\n",
       "    </tr>\n",
       "  </thead>\n",
       "  <tbody>\n",
       "    <tr>\n",
       "      <th>0</th>\n",
       "      <td>Male</td>\n",
       "      <td>174</td>\n",
       "      <td>96</td>\n",
       "      <td>4</td>\n",
       "    </tr>\n",
       "    <tr>\n",
       "      <th>1</th>\n",
       "      <td>Male</td>\n",
       "      <td>189</td>\n",
       "      <td>87</td>\n",
       "      <td>2</td>\n",
       "    </tr>\n",
       "    <tr>\n",
       "      <th>2</th>\n",
       "      <td>Female</td>\n",
       "      <td>185</td>\n",
       "      <td>110</td>\n",
       "      <td>4</td>\n",
       "    </tr>\n",
       "    <tr>\n",
       "      <th>3</th>\n",
       "      <td>Female</td>\n",
       "      <td>195</td>\n",
       "      <td>104</td>\n",
       "      <td>3</td>\n",
       "    </tr>\n",
       "    <tr>\n",
       "      <th>4</th>\n",
       "      <td>Male</td>\n",
       "      <td>149</td>\n",
       "      <td>61</td>\n",
       "      <td>3</td>\n",
       "    </tr>\n",
       "  </tbody>\n",
       "</table>\n",
       "</div>"
      ],
      "text/plain": [
       "   Gender  Height  Weight  Index\n",
       "0    Male     174      96      4\n",
       "1    Male     189      87      2\n",
       "2  Female     185     110      4\n",
       "3  Female     195     104      3\n",
       "4    Male     149      61      3"
      ]
     },
     "execution_count": 7,
     "metadata": {},
     "output_type": "execute_result"
    }
   ],
   "source": [
    "df = pd.read_csv(\"../resources/500_Person_Gender_Height_Weight_Index.csv\")  \n",
    "df.head()"
   ]
  },
  {
   "cell_type": "code",
   "execution_count": 8,
   "id": "dfb2d756",
   "metadata": {},
   "outputs": [],
   "source": [
    "df['obese'] = (df['Index']>4).astype(int)\n",
    "df.drop('Index',axis=1,inplace=True)"
   ]
  },
  {
   "cell_type": "code",
   "execution_count": 9,
   "id": "2c852b48",
   "metadata": {},
   "outputs": [
    {
     "data": {
      "text/plain": [
       "<matplotlib.legend.Legend at 0xf1b099cfd0>"
      ]
     },
     "execution_count": 9,
     "metadata": {},
     "output_type": "execute_result"
    },
    {
     "data": {
      "image/png": "[encoded data removed]",
      "text/plain": [
       "<Figure size 432x288 with 1 Axes>"
      ]
     },
     "metadata": {},
     "output_type": "display_data"
    }
   ],
   "source": []
  },
  {
   "cell_type": "markdown",
   "id": "6c5a66cf",
   "metadata": {},
   "source": [
    "For solving this attribute selection problem, researchers worked and devised some solutions. They suggested using some criteria like :\n",
    "\n",
    "*Entropy, <br>\n",
    "*Information gain, <br>\n",
    "*Gini index, <br>\n",
    "*Gain Ratio, <br>\n",
    "*Reduction in Variance <br>\n",
    "*Chi-Square <br>"
   ]
  },
  {
   "cell_type": "markdown",
   "id": "15ce62a0",
   "metadata": {},
   "source": [
    "<h2 id='entropy'> Entropy (Entropy as expected surprise) </h2>"
   ]
  },
  {
   "cell_type": "markdown",
   "id": "e1a5afc7",
   "metadata": {},
   "source": [
    "The entropy was appeared in the thermodynamic field in the works of  Rudolf Clausius over the temperature of the gas. In ML the entropy plays an important row because it is a measure of chaos, disorder, or uncertainty of the system.\n",
    "The above graphics represent the two gasses initially they have a low entropy because they are cleanly separable, after some time, however, the gasses intermingle and the system's entropy increased. The entropy of a dataset is used to measure the impurity of a dataset and we will use this kind of informativeness measure in our calculations.\n",
    "<br> <br>\n",
    "\n",
    "\n",
    "First : If the probability of occurring of event A is $100%$  then your surprise $S$ should be zero.<br>\n",
    "if $P(A)=1%$ then $S(A)=0$ <br>\n",
    "Second : If something happens that you were totally sure was impossible, with 100% credence, then you should be infinitely surprised <br>\n",
    "\n",
    "\n",
    "That is, if E happens and $P(E) = 0$,then  $S = ∞$ <br> <br>\n",
    "\n",
    "$$S(0) = ∞ $$ <br>\n",
    "\n",
    "If an event $A_1$ happens that is surprising to degree $S_1$, and then another event $A_2$ happens with surprisingness $S_2$, then your surprise at the combination of these events should be $S1 + S2$."
   ]
  },
  {
   "cell_type": "markdown",
   "id": "3a0ede49",
   "metadata": {},
   "source": [
    "I.e., we want surprise to be additive. If $$(P(A_1)) = S_1$$ and $$S(P(A_2 | A_1)) = S_2$$,\n"
   ]
  },
  {
   "cell_type": "markdown",
   "id": "17e7e160",
   "metadata": {},
   "source": [
    "then $$S(P(A_1 and A_2) = S_1 + S_2$$.\n",
    "\n",
    "This entails a new constraint on our surprise function, namely:\n",
    "\n",
    "$$S(PQ) = S(P) + S(Q)$$"
   ]
  },
  {
   "cell_type": "markdown",
   "id": "4d8c5dcf",
   "metadata": {},
   "source": [
    "Fourth, and finally! We want our surprise function to be continuous – free from discontinuous jumps. If your credence that the event will happen changes by an arbitrarily small amount, then your surprise if it does happen should also change by an arbitrarily small amount.\n",
    "\n",
    "$$S(P)\\; is\\; continuous$$."
   ]
  },
  {
   "cell_type": "markdown",
   "id": "99cfb490",
   "metadata": {},
   "source": [
    "Taking the simplest choice of k, we end up with a unique formalization of the intuitive notion of surprise:\n",
    "\n",
    "$$S(P) = – logP$$"
   ]
  },
  {
   "cell_type": "markdown",
   "id": "6c60aa4f",
   "metadata": {},
   "source": [
    "To summarize what we have so far: Four basic desideratum for our formalization of the intuitive notion of surprise have led us to a single simple equation.\n",
    "\n",
    "This equation that we’ve arrived at turns out to be extremely important in information theory. It is, in fact, just the definition of the amount of information you gain by observing E. This reveals to us a deep connection between surprise and information. They are in an important sense expressing the same basic idea: more surprising events give you more information, and unsurprising events give you little information.\n",
    "\n",
    "Let’s get a little better numerical sense of this formalization of surprise/information. What does a single unit of surprise or information mean? With some quick calculation, we see that a single unit of surprise, or bit of information corresponds to the observation of an event that you had a 50% expectation of. This also corresponds to a ruling out of 50% of the weight of possible other events you thought you might have observed. In essence, each bit of information you receive / surprise you experience corresponds to the total amount of possibilities being cut in half.\n",
    "\n",
    "Two bits of information narrow the possibilities to one-fourth. Three cut out all but one-eighth. And so on. For a rational agent, the process of receiving more information or of being continuously surprised is the process of whittling down your models of reality to a smaller and better set!\n",
    "\n",
    "The next great step forward is to use our formalization of surprise to talk not just about how surprised you are once an event happens, but how surprised you expect to be. If you have a credence of P in an event happening, then you expect a degree of surprise S(P) with credence P. In other words, the expected surprise you have with respect to that particular event is:\n",
    "\n",
    "$$Expected\\;\\;surprise = – p\\log p$$"
   ]
  },
  {
   "cell_type": "markdown",
   "id": "a3c1cea3",
   "metadata": {},
   "source": [
    "The next great step forward is to use our formalization of surprise to talk not just about how surprised you are once an event happens, but how surprised you expect to be. If you have a credence of P in an event happening, then you expect a degree of surprise S(P) with credence P. In other words, the expected surprise you have with respect to that particular event is:\n",
    "\n"
   ]
  },
  {
   "cell_type": "markdown",
   "id": "e42aa943",
   "metadata": {},
   "source": [
    "When summed over the totality of all possible events that occurred we get the following expression:\n",
    "\n",
    "$Total\\;expected \\;surprise = – ∑_i P_i \\log P_i$\n",
    "\n",
    "This expression should look very very familiar to you. It’s one of the most important quantities humans have discovered…"
   ]
  },
  {
   "cell_type": "markdown",
   "id": "4a516d56",
   "metadata": {},
   "source": [
    "$$Entropy = Total\\; expected\\; surprise$$"
   ]
  },
  {
   "cell_type": "markdown",
   "id": "f9150519",
   "metadata": {},
   "source": [
    "Total expected surprise is entropy. And entropy is a measure of uncertainty.\n",
    "\n",
    "source: https://risingentropy.com/entropy-is-total-expected-surprise/#:~:text=Total%20expected%20surprise%20is%20entropy,happen%20in%20the%20next%20moment"
   ]
  },
  {
   "cell_type": "markdown",
   "id": "642189a7",
   "metadata": {},
   "source": [
    "$$ E(S) = \\sum_{i=1}^c - p_i\\log_2p_i$$"
   ]
  },
  {
   "cell_type": "code",
   "execution_count": 11,
   "id": "dcdb42ce",
   "metadata": {},
   "outputs": [],
   "source": [
    "def entropy(y):\n",
    "    \"\"\"\n",
    "    Given a Pandas Series, it calculates the Entropy\n",
    "    y: variable with wich calculate Entropy\n",
    "    \"\"\"\n",
    "    if isinstance(y, pd.Series):\n",
    "        p = y.value_counts()/y.shape[0]\n",
    "        entropy = np.sum(-p*np.log2(p)+1e-9)\n",
    "        return(entropy)\n",
    "    else :\n",
    "        raise(\"Object y must to be a Pandas Series\")"
   ]
  },
  {
   "cell_type": "code",
   "execution_count": 47,
   "id": "1de7e2bd",
   "metadata": {},
   "outputs": [
    {
     "data": {
      "text/plain": [
       "[<matplotlib.lines.Line2D at 0xf8d3137910>]"
      ]
     },
     "execution_count": 47,
     "metadata": {},
     "output_type": "execute_result"
    },
    {
     "data": {
      "image/png": "[encoded data removed]",
      "text/plain": [
       "<Figure size 432x288 with 1 Axes>"
      ]
     },
     "metadata": {},
     "output_type": "display_data"
    }
   ],
   "source": [
    "A = np.array([p,1-p])\n",
    "D = np.nan_to_num(np.log2(A)*A)\n",
    "C = -np.sum(D,axis=0)\n",
    "plt.plot(p,C)"
   ]
  },
  {
   "cell_type": "markdown",
   "id": "773786be",
   "metadata": {},
   "source": [
    "From the above graph, it is quite evident that the entropy H(X) is zero when the probability is either 0 or 1. The Entropy is maximum when the probability is 0.5 because it projects perfect randomness in the data and there is no chance if perfectly determining the outcome."
   ]
  },
  {
   "cell_type": "code",
   "execution_count": 14,
   "id": "7beb88eb",
   "metadata": {},
   "outputs": [
    {
     "data": {
      "text/plain": [
       "<matplotlib.legend.Legend at 0xf1b1197fd0>"
      ]
     },
     "execution_count": 14,
     "metadata": {},
     "output_type": "execute_result"
    },
    {
     "data": {
      "image/png": "[encoded data removed]",
      "text/plain": [
       "<Figure size 432x288 with 1 Axes>"
      ]
     },
     "metadata": {},
     "output_type": "display_data"
    }
   ],
   "source": [
    "is_ob = df[df['obese']==0].drop('obese',axis=1)\n",
    "ob = df[df['obese']==1].drop('obese',axis=1)\n",
    "plt.scatter(is_ob['Height'],is_ob['Weight'],color='r',label='not_obese')\n",
    "plt.scatter(ob['Height'],ob['Weight'],color='b',label='obese')\n",
    "plt.xlabel('Height')\n",
    "plt.ylabel('Weight')\n",
    "plt.legend()"
   ]
  },
  {
   "cell_type": "code",
   "execution_count": 12,
   "id": "e8917507",
   "metadata": {},
   "outputs": [],
   "source": [
    "weights = df['Weight'].unique()\n",
    "data = np.array([0,0,0])\n",
    "for i in range(1,len(weights)):\n",
    "    weight = weights[i]\n",
    "    a = df[df['Weight']<weight]\n",
    "    b = df[df['Weight']>weight]\n",
    "    e = entropy(a['obese'])\n",
    "    e_1 = entropy(b['obese'])\n",
    "    data = np.vstack([data,[weight,e,e_1]])"
   ]
  },
  {
   "cell_type": "code",
   "execution_count": 13,
   "id": "cc6b1637",
   "metadata": {},
   "outputs": [
    {
     "data": {
      "text/plain": [
       "<matplotlib.legend.Legend at 0xf1b1133ee0>"
      ]
     },
     "execution_count": 13,
     "metadata": {},
     "output_type": "execute_result"
    },
    {
     "data": {
      "image/png": "[encoded data removed]",
      "text/plain": [
       "<Figure size 432x288 with 1 Axes>"
      ]
     },
     "metadata": {},
     "output_type": "display_data"
    }
   ],
   "source": [
    "plt.scatter(data[:,0],data[:,1],s=4,label='<weight')\n",
    "plt.scatter(data[:,0],data[:,2],s=4,label='>weight')\n",
    "plt.legend()"
   ]
  },
  {
   "cell_type": "markdown",
   "id": "c3f4ee81",
   "metadata": {},
   "source": []
  },
  {
   "cell_type": "markdown",
   "id": "541ee769",
   "metadata": {},
   "source": [
    "<h2> What Is Information Gain? </h2>"
   ]
  },
  {
   "cell_type": "markdown",
   "id": "c8e8dd79",
   "metadata": {},
   "source": [
    "Information gain is the expected reduction in entropy caused by partitioning the examples according to a given attribute.\n",
    "Information Gain, or IG for short, measures the reduction in entropy or surprise by splitting a dataset according to a given value of a random variable."
   ]
  },
  {
   "cell_type": "markdown",
   "id": "7eff4138",
   "metadata": {},
   "source": [
    "As we have seen, cuts are compared by impurity. Therefore, we are interested in comparing those cuts that generate less impurity. For this, Information Gain is used. This metric indicates the improvement when making different partitions and is usually used with entropy (it could also be used with the Gini index, although in that case it would not be called Informaiton Gain)."
   ]
  },
  {
   "cell_type": "markdown",
   "id": "9e7823bd",
   "metadata": {},
   "source": [
    "The calculation of the Information Gain will depend on whether it is a classification or regression decision tree. There would be two options:"
   ]
  },
  {
   "cell_type": "markdown",
   "id": "661d7b84",
   "metadata": {},
   "source": [
    "$$ InformationGain_{clasification} = E(d) - \\sum\\frac{|s|}{|d|}E(s)$$"
   ]
  },
  {
   "cell_type": "markdown",
   "id": "fe523350",
   "metadata": {},
   "source": [
    "$$ InformationGain_{regression} = Var(d) - \\sum\\frac{|s|}{|d|}Var(s)$$"
   ]
  },
  {
   "cell_type": "code",
   "execution_count": null,
   "id": "b5a2cb20",
   "metadata": {},
   "outputs": [],
   "source": [
    "So the Information Gain will look like this:"
   ]
  },
  {
   "cell_type": "code",
   "execution_count": 16,
   "id": "d2b25343",
   "metadata": {},
   "outputs": [
    {
     "data": {
      "text/plain": [
       "0       True\n",
       "1       True\n",
       "2      False\n",
       "3      False\n",
       "4       True\n",
       "       ...  \n",
       "495    False\n",
       "496    False\n",
       "497    False\n",
       "498     True\n",
       "499     True\n",
       "Name: Gender, Length: 500, dtype: bool"
      ]
     },
     "execution_count": 16,
     "metadata": {},
     "output_type": "execute_result"
    }
   ],
   "source": [
    "a = mask = df['Gender'] == 'Male'\n",
    "a"
   ]
  },
  {
   "cell_type": "code",
   "execution_count": 25,
   "id": "561fba88",
   "metadata": {},
   "outputs": [],
   "source": [
    "b = mask.shape[0] - a\n",
    "data=df"
   ]
  },
  {
   "cell_type": "code",
   "execution_count": 20,
   "id": "0da65081",
   "metadata": {},
   "outputs": [],
   "source": [
    "def variance(y):\n",
    "  '''\n",
    "  Function to help calculate the variance avoiding nan.\n",
    "  y: variable to calculate variance to. It should be a Pandas Series.\n",
    "  '''\n",
    "  if(len(y) == 1):\n",
    "    return 0\n",
    "  else:\n",
    "    return y.var()\n",
    "\n",
    "def information_gain(y, mask, func=entropy):\n",
    "  '''\n",
    "  It returns the Information Gain of a variable given a loss function.\n",
    "  y: target variable.\n",
    "  mask: split choice.\n",
    "  func: function to be used to calculate Information Gain in case os classification.\n",
    "  '''\n",
    "  \n",
    "  a = sum(mask)\n",
    "  b = mask.shape[0] - a\n",
    "  \n",
    "  if(a == 0 or b ==0): \n",
    "    ig = 0\n",
    "  \n",
    "  else:\n",
    "    if  False : #y.dtypes != 'O':\n",
    "      ig = variance(y) - (a/(a+b)* variance(y[mask])) - (b/(a+b)*variance(y[-mask]))\n",
    "    else:\n",
    "      ig = func(y)-a/(a+b)*func(y[mask])-b/(a+b)*func(y[-mask])\n",
    "  \n",
    "  return ig"
   ]
  },
  {
   "cell_type": "code",
   "execution_count": 22,
   "id": "4bcd3c24",
   "metadata": {},
   "outputs": [],
   "source": [
    "def max_information_gain_split(x, y, func=entropy):\n",
    "    x,y = data['Weight'], data['obese']\n",
    "\n",
    "    split_value = []\n",
    "    ig = [] \n",
    "\n",
    "    numeric_variable = True if x.dtypes != 'O' else False # check the type of column\n",
    "\n",
    "    #Create options according to variable type\n",
    "    if numeric_variable:\n",
    "        options = x.sort_values().unique()[1:]\n",
    "    else : \n",
    "        pass\n",
    "    \n",
    "    for val in options:\n",
    "        #print(x)\n",
    "        mask =   x < val if numeric_variable else x.isin(val)\n",
    "        val_ig = information_gain(y, mask, func=entropy)\n",
    "        print(val_ig)\n",
    "    \n",
    "        ig.append(val_ig)\n",
    "        split_value.append(val)\n",
    "    \n",
    "        if(len(ig)==0):\n",
    "            return (None,None,None, False)\n",
    "    \n",
    "    else:\n",
    "    # get results with highest IG\n",
    "        best_ig = min(ig)\n",
    "        best_ig_index = ig.index(best_ig)\n",
    "        best_split_number = split_value[best_ig_index]\n",
    "    return(best_ig,best_split_number,numeric_variable, True)"
   ]
  },
  {
   "cell_type": "code",
   "execution_count": 26,
   "id": "26979607",
   "metadata": {},
   "outputs": [
    {
     "name": "stdout",
     "output_type": "stream",
     "text": [
      "0.013248550362148115\n",
      "0.019239131552930555\n",
      "0.02681886589871596\n",
      "0.02834724100380448\n",
      "0.040727347611283715\n",
      "0.04229436503052997\n",
      "0.04860686705112138\n",
      "0.05659943049355809\n",
      "0.06307713714734342\n",
      "0.06798539307789397\n",
      "0.07626334282670666\n",
      "0.08806366952975142\n",
      "0.09838184391520022\n",
      "0.1001203601070142\n",
      "0.10536887177872045\n",
      "0.11422844681134792\n",
      "0.11961307228444751\n",
      "0.12870562941028996\n",
      "0.13608897412820398\n",
      "0.1416920224069167\n",
      "0.15691798029007065\n",
      "0.16469180212225099\n",
      "0.16862030952168472\n",
      "0.1725771002708847\n",
      "0.18057724748327653\n",
      "0.18665484721886905\n",
      "0.19486458743553137\n",
      "0.1990160809393725\n",
      "0.20530299755540815\n",
      "0.20102413256055462\n",
      "0.19526376749957441\n",
      "0.2081612343224879\n",
      "0.21474191596081815\n",
      "0.2304535336513499\n",
      "0.23966454360723888\n",
      "0.23969139748109958\n",
      "0.21763971693220618\n",
      "0.2291653279241681\n",
      "0.2193949694101841\n",
      "0.22638091525802462\n",
      "0.24314613523855388\n",
      "0.23614646909849735\n",
      "0.23911276847072294\n",
      "0.24157066726027876\n",
      "0.23593754722217597\n",
      "0.242100178592647\n",
      "0.2538090793946203\n",
      "0.25289134319802076\n",
      "0.25476624904361433\n",
      "0.25682893260523576\n",
      "0.2506376216706989\n",
      "0.2530997567518052\n",
      "0.2613378085441945\n",
      "0.25855187737708035\n",
      "0.25131112947133466\n",
      "0.2604801999453885\n",
      "0.2641523377651573\n",
      "0.26293275165368846\n",
      "0.2601765832875045\n",
      "0.25972839092989697\n",
      "0.2533929388140315\n",
      "0.260204265450591\n",
      "0.2556364168577854\n",
      "0.2564573802067637\n",
      "0.26099811677696644\n",
      "0.26795110328912003\n",
      "0.2778261206665928\n",
      "0.27996991413331157\n",
      "0.2831234566085256\n",
      "0.27805151326783595\n",
      "0.281053556223291\n",
      "0.29766940266810216\n",
      "0.2929080291866215\n",
      "0.28849060701068513\n",
      "0.29744812061975945\n",
      "0.28491288220520494\n",
      "0.28577398866702275\n",
      "0.2955066336383253\n",
      "0.2912280218673158\n",
      "0.28858481160507854\n",
      "0.27818768279560957\n",
      "0.28072110339926465\n",
      "0.27261707536022317\n",
      "0.2686119126150439\n",
      "0.2582486435231807\n",
      "0.2674736772735601\n",
      "0.2617710190103045\n",
      "0.25253711433011505\n",
      "0.24647022100841162\n",
      "0.22734281206333046\n",
      "0.20918397020593468\n",
      "0.19528909519889148\n",
      "0.17504842299967543\n",
      "0.16519182253750328\n",
      "0.1555352766198213\n",
      "0.13661169165947493\n",
      "0.12771555258872092\n",
      "0.13166648960251584\n",
      "0.12400188920909738\n",
      "0.11786713100093195\n",
      "0.10877920184977767\n",
      "0.09687520095894017\n",
      "0.07380952367265582\n",
      "0.061626892632517936\n",
      "0.047767682804006964\n",
      "0.043936698493079754\n",
      "0.035514468459395966\n",
      "0.027179291138834327\n",
      "0.01619783859382402\n"
     ]
    },
    {
     "data": {
      "text/plain": [
       "51"
      ]
     },
     "execution_count": 26,
     "metadata": {},
     "output_type": "execute_result"
    }
   ],
   "source": [
    "weight_ig, weight_slpit, _, _ = max_information_gain_split(df['Weight'], df['obese'])  \n",
    "weight_slpit"
   ]
  },
  {
   "cell_type": "code",
   "execution_count": 27,
   "id": "c42e748e",
   "metadata": {},
   "outputs": [
    {
     "name": "stdout",
     "output_type": "stream",
     "text": [
      "The best split for Weight is when the variable is less than  51 \n",
      "Information Gain for that split is: 0.013248550362148115\n"
     ]
    }
   ],
   "source": [
    "print(\n",
    "  \"The best split for Weight is when the variable is less than \",\n",
    "  weight_slpit,\"\\nInformation Gain for that split is:\", weight_ig\n",
    ")"
   ]
  },
  {
   "cell_type": "code",
   "execution_count": 28,
   "id": "6d62e8ef",
   "metadata": {},
   "outputs": [
    {
     "data": {
      "text/plain": [
       "1e-09"
      ]
     },
     "execution_count": 28,
     "metadata": {},
     "output_type": "execute_result"
    }
   ],
   "source": [
    "entropy(data['obese'][data['Weight']<51])"
   ]
  },
  {
   "cell_type": "markdown",
   "id": "d83d8370",
   "metadata": {},
   "source": [
    "<h2 id='ref'> References </h2>\n",
    "\n"
   ]
  },
  {
   "cell_type": "markdown",
   "id": "ed2ae247",
   "metadata": {},
   "source": [
    "*<a href='https://towardsdatascience.com/decision-trees-in-machine-learning-641b9c4e8052'>Decision Trees in Machine Learning</a> <br>\n",
    "\n",
    "*<a href='https://www.kdnuggets.com/2020/01/decision-tree-algorithm-explained.html'>Decision Tree Algorithm, Explained</a>\n",
    "\n",
    "*<a href='https://risingentropy.com/entropy-is-total-expected-surprise/#:~:text=Total%20expected%20surprise%20is%20entropy,happen%20in%20the%20next%20moment'> Supricsd </a>"
   ]
  }
 ],
 "metadata": {
  "kernelspec": {
   "display_name": "Python 3",
   "language": "python",
   "name": "python3"
  },
  "language_info": {
   "codemirror_mode": {
    "name": "ipython",
    "version": 3
   },
   "file_extension": ".py",
   "mimetype": "text/x-python",
   "name": "python",
   "nbconvert_exporter": "python",
   "pygments_lexer": "ipython3",
   "version": "3.8.8"
  }
 },
 "nbformat": 4,
 "nbformat_minor": 5
}
